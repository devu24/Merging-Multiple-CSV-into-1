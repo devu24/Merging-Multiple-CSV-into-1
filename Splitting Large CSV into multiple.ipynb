{
 "cells": [
  {
   "cell_type": "code",
   "execution_count": 6,
   "id": "9b2e9639",
   "metadata": {},
   "outputs": [],
   "source": [
    "import pandas as pd"
   ]
  },
  {
   "cell_type": "code",
   "execution_count": 9,
   "id": "ec2293b3",
   "metadata": {},
   "outputs": [],
   "source": [
    "def split_large_csv(input_csv, chunk_size):\n",
    "    for i, chunk in enumerate(pd.read_csv(input_csv, chunksize=chunk_size)):\n",
    "        output_csv = f\"output_part_{i+100}.csv\"\n",
    "        chunk.to_csv(output_csv, index=False)\n",
    "        print(f\"Created {output_csv}\")\n",
    "\n"
   ]
  },
  {
   "cell_type": "code",
   "execution_count": 10,
   "id": "005f8ffc",
   "metadata": {},
   "outputs": [
    {
     "name": "stdout",
     "output_type": "stream",
     "text": [
      "Created output_part_100.csv\n",
      "Created output_part_101.csv\n",
      "Created output_part_102.csv\n",
      "Created output_part_103.csv\n",
      "Created output_part_104.csv\n",
      "Created output_part_105.csv\n",
      "Created output_part_106.csv\n",
      "Created output_part_107.csv\n",
      "Created output_part_108.csv\n",
      "Created output_part_109.csv\n",
      "Created output_part_110.csv\n",
      "Created output_part_111.csv\n",
      "Created output_part_112.csv\n",
      "Created output_part_113.csv\n",
      "Created output_part_114.csv\n",
      "Created output_part_115.csv\n",
      "Created output_part_116.csv\n",
      "Created output_part_117.csv\n"
     ]
    }
   ],
   "source": [
    "# Usage\n",
    "split_large_csv(\"wealth_management_9L_rows.csv\", 50000)  # Splits into chunks of 50,000 rows each"
   ]
  },
  {
   "cell_type": "code",
   "execution_count": null,
   "id": "87fe9125",
   "metadata": {},
   "outputs": [],
   "source": []
  }
 ],
 "metadata": {
  "kernelspec": {
   "display_name": "Python 3 (ipykernel)",
   "language": "python",
   "name": "python3"
  },
  "language_info": {
   "codemirror_mode": {
    "name": "ipython",
    "version": 3
   },
   "file_extension": ".py",
   "mimetype": "text/x-python",
   "name": "python",
   "nbconvert_exporter": "python",
   "pygments_lexer": "ipython3",
   "version": "3.9.13"
  }
 },
 "nbformat": 4,
 "nbformat_minor": 5
}
